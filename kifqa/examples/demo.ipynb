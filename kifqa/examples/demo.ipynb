{
 "cells": [
  {
   "cell_type": "code",
   "execution_count": 1,
   "id": "a65b7490",
   "metadata": {},
   "outputs": [],
   "source": [
    "import dotenv\n",
    "dotenv.load_dotenv()\n",
    "import logging\n",
    "import os\n",
    "from kif_lib import Filter, Store, Search\n",
    "from langchain_ibm import ChatWatsonx\n",
    "from kifqa import KIFQA\n",
    "\n",
    "# logging.basicConfig(level=logging.INFO)\n",
    "\n",
    "model = ChatWatsonx(\n",
    "    model_id=\"meta-llama/llama-3-3-70b-instruct\",\n",
    "    apikey=os.environ['LLM_API_KEY'], # type: ignore\n",
    "    url=os.environ['LLM_API_ENDPOINT'], # type: ignore\n",
    "    project_id=os.environ['WATSONX_PROJECT_ID'],\n",
    ")\n"
   ]
  },
  {
   "cell_type": "code",
   "execution_count": 2,
   "id": "07649371",
   "metadata": {},
   "outputs": [],
   "source": [
    "store = Store('wikidata', timeout=60.0, page_size=1000)\n",
    "store.timeout = 60.0\n",
    "store.page_size = 1000\n",
    "\n",
    "kif_wiki_kbqa = KIFQA(\n",
    "    store=store,\n",
    "    search=Search('wikidata-wapi', limit=10),\n",
    "    model=model)"
   ]
  },
  {
   "cell_type": "code",
   "execution_count": 3,
   "id": "cdd16852",
   "metadata": {},
   "outputs": [],
   "source": [
    "stmts = kif_wiki_kbqa.query('Where did roger marquis die')"
   ]
  },
  {
   "cell_type": "code",
   "execution_count": 4,
   "id": "5ebbbced",
   "metadata": {},
   "outputs": [
    {
     "data": {
      "text/markdown": [
       "(**Statement** (**Item** [wd:Q7358590](http://www.wikidata.org/entity/Q7358590)) (**ValueSnak** (**Property** [place of death](http://www.wikidata.org/entity/P20)) (**Item** [wd:Q1637790](http://www.wikidata.org/entity/Q1637790))))"
      ],
      "text/plain": [
       "Statement(Item(IRI('http://www.wikidata.org/entity/Q7358590')), ValueSnak(Property(IRI('http://www.wikidata.org/entity/P20'), ItemDatatype()), Item(IRI('http://www.wikidata.org/entity/Q1637790'))))"
      ]
     },
     "metadata": {},
     "output_type": "display_data"
    }
   ],
   "source": [
    "for stmt in stmts:\n",
    "    display(stmt)"
   ]
  }
 ],
 "metadata": {
  "kernelspec": {
   "display_name": "venv",
   "language": "python",
   "name": "python3"
  },
  "language_info": {
   "codemirror_mode": {
    "name": "ipython",
    "version": 3
   },
   "file_extension": ".py",
   "mimetype": "text/x-python",
   "name": "python",
   "nbconvert_exporter": "python",
   "pygments_lexer": "ipython3",
   "version": "3.11.11"
  }
 },
 "nbformat": 4,
 "nbformat_minor": 5
}
