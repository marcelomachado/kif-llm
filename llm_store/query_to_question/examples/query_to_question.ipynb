{
 "cells": [
  {
   "cell_type": "code",
   "execution_count": 1,
   "metadata": {},
   "outputs": [],
   "source": [
    "import os\n",
    "\n",
    "import dotenv\n",
    "dotenv.load_dotenv()\n",
    "\n",
    "from kif_lib import *\n",
    "from kif_llm_store import *\n",
    "from kif_llm_store.store.llm.query_to_question import (\n",
    "    QueryToQuestion\n",
    ")\n",
    "# import logging\n",
    "# logging.basicConfig(level=logging.INFO)"
   ]
  },
  {
   "cell_type": "code",
   "execution_count": 2,
   "metadata": {},
   "outputs": [],
   "source": [
    "from langchain_ibm import ChatWatsonx\n",
    "\n",
    "model_id='meta-llama/llama-3-405b-instruct'\n",
    "base_url=os.environ['WATSONX_URL']\n",
    "api_key=os.environ['WATSONX_APIKEY']\n",
    "project_id=os.environ['WATSONX_PROJECT_ID']\n",
    "\n",
    "model = ChatWatsonx(model_id=model_id, url=base_url, apikey=api_key, project_id=project_id)"
   ]
  },
  {
   "cell_type": "code",
   "execution_count": 3,
   "metadata": {},
   "outputs": [],
   "source": [
    "q2q = QueryToQuestion(model = model)"
   ]
  },
  {
   "cell_type": "code",
   "execution_count": 4,
   "metadata": {},
   "outputs": [
    {
     "data": {
      "text/plain": [
       "'What are the official languages of Argentina?'"
      ]
     },
     "execution_count": 4,
     "metadata": {},
     "output_type": "execute_result"
    }
   ],
   "source": [
    "res = q2q.run('''\n",
    "Fill in the gap to complete the relation:\n",
    "Argentina official language _''')\n",
    "res"
   ]
  },
  {
   "cell_type": "code",
   "execution_count": 5,
   "metadata": {},
   "outputs": [],
   "source": [
    "examples = [\n",
    "    {'query': 'Brazil capital _', 'question': 'What is the capital of Brazil?'},\n",
    "    {'query': 'Brazil part of _ where _ is instance of a geographic region', 'question': 'Which geographic regions is Brazil part of?'}\n",
    "]"
   ]
  },
  {
   "cell_type": "code",
   "execution_count": 6,
   "metadata": {},
   "outputs": [],
   "source": [
    "q2q = QueryToQuestion(model = model, examples=examples)"
   ]
  },
  {
   "cell_type": "code",
   "execution_count": 7,
   "metadata": {},
   "outputs": [
    {
     "data": {
      "text/plain": [
       "'Which geographic regions is Argentina part of?'"
      ]
     },
     "execution_count": 7,
     "metadata": {},
     "output_type": "execute_result"
    }
   ],
   "source": [
    "res = q2q.run('''\n",
    "Argentina part of _ where _ is instance of a geographic region''')\n",
    "res"
   ]
  }
 ],
 "metadata": {
  "kernelspec": {
   "display_name": "kbc",
   "language": "python",
   "name": "python3"
  },
  "language_info": {
   "codemirror_mode": {
    "name": "ipython",
    "version": 3
   },
   "file_extension": ".py",
   "mimetype": "text/x-python",
   "name": "python",
   "nbconvert_exporter": "python",
   "pygments_lexer": "ipython3",
   "version": "3.12.6"
  }
 },
 "nbformat": 4,
 "nbformat_minor": 2
}
